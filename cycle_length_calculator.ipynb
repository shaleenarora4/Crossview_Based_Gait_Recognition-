{
 "cells": [
  {
   "cell_type": "code",
   "execution_count": 1,
   "metadata": {
    "ExecuteTime": {
     "end_time": "2019-02-26T06:01:42.320173Z",
     "start_time": "2019-02-26T06:01:42.151945Z"
    }
   },
   "outputs": [],
   "source": [
    "import cv2\n",
    "import os\n",
    "import sys\n",
    "import numpy as np\n",
    "import imutils\n",
    "import math"
   ]
  },
  {
   "cell_type": "code",
   "execution_count": 2,
   "metadata": {
    "ExecuteTime": {
     "end_time": "2019-02-26T06:01:43.176765Z",
     "start_time": "2019-02-26T06:01:43.160719Z"
    }
   },
   "outputs": [],
   "source": [
    "sample_image = cv2.imread(\"C:\\\\Users\\\\MUJ\\\\Desktop\\\\minor\\\\casia b\\\\silhouettes\\\\silhouette\\\\001\\\\nm-01\\\\090\\\\001-nm-01-090-047.png\",0)\n",
    "sample_image_rgb = cv2.imread(\"C:\\\\Users\\\\MUJ\\\\Desktop\\\\minor\\\\casia b\\\\silhouettes\\\\silhouette\\\\001\\\\nm-01\\\\090\\\\001-nm-01-090-047.png\")"
   ]
  },
  {
   "cell_type": "code",
   "execution_count": 3,
   "metadata": {
    "ExecuteTime": {
     "end_time": "2019-02-26T06:03:02.861047Z",
     "start_time": "2019-02-26T06:03:02.813079Z"
    }
   },
   "outputs": [],
   "source": [
    "\"\"\"\n",
    "    Main Code Over here\n",
    "\n",
    "\"\"\"\n",
    "\n",
    "\n",
    "def findDistance(sample_image,sample_image_rgb):\n",
    "    thresh = cv2.threshold(sample_image, 45, 255, cv2.THRESH_BINARY)[1]\n",
    "    thresh = cv2.erode(thresh, None, iterations=2)\n",
    "    thresh = cv2.dilate(thresh, None, iterations=2)\n",
    "\n",
    "    #Find the ccontour of the binary image\n",
    "    cnts = cv2.findContours(thresh.copy(), cv2.RETR_EXTERNAL,cv2.CHAIN_APPROX_SIMPLE)\n",
    "    cnts = imutils.grab_contours(cnts)\n",
    "    c = max(cnts, key=cv2.contourArea)\n",
    "\n",
    "    #The extreme most points\n",
    "    extLeft = tuple(c[c[:, :, 0].argmin()][0])\n",
    "    extRight = tuple(c[c[:, :, 0].argmax()][0])\n",
    "    extTop = tuple(c[c[:, :, 1].argmin()][0])\n",
    "    extBot = tuple(c[c[:, :, 1].argmax()][0])\n",
    "    \n",
    "    \"\"\"\n",
    "        In the below code :\n",
    "            1) We are considering the points only below fist level is coordinates with y value greater than that\n",
    "                of fist\n",
    "            2) In those values we are picking the rightmost and leftmost point that eventually comes out to\n",
    "                be the foot points\n",
    "        \n",
    "    \"\"\"\n",
    "    maximum_y_r = -999\n",
    "    maximum_x_r = -999\n",
    "    maximum_x_l = extLeft[0]\n",
    "    maximum_y_l = -999 \n",
    "    \n",
    "    for i in cnts[0]:\n",
    "        for k in i:\n",
    "            if k[1] > 150:\n",
    "                if maximum_x_r < k[0]:\n",
    "                    maximum_x_r = k[0]\n",
    "                    maximum_y_r = k[1]\n",
    "                        \n",
    "    \"\"\"\n",
    "        Now find the bottom most left point. Using the right most point found above find the point\n",
    "        with minimum value of x starting from y > 185. 185 are the points below the knee of the subject\n",
    "        this is taken as an assumption\n",
    "    \n",
    "    \"\"\"\n",
    "    \n",
    "    maximum_x_l = maximum_x_r\n",
    "    maximum_y_l = -999 \n",
    "    for i in cnts[0]:\n",
    "        for k in i:\n",
    "            if k[1] > maximum_y_r - 10:\n",
    "                if maximum_x_l > k[0]:\n",
    "                    maximum_x_l = k[0]\n",
    "                    maximum_y_l = k[1]\n",
    "\n",
    "    cv2.circle(sample_image_rgb, (maximum_x_r,maximum_y_r), 3, (0, 0, 255), -1)\n",
    "    cv2.circle(sample_image_rgb, (maximum_x_l,maximum_y_l), 3, (255, 255, 0), -1)\n",
    "#     cv2.imshow(\"test\",sample_image_rgb)\n",
    "#     cv2.waitKey(0)\n",
    "#     cv2.destroyAllWindows()\n",
    "    dx2 = (maximum_x_r-extBot[0])**2          # (200-10)^2\n",
    "    dy2 = (maximum_y_r-extBot[1])**2          # (300-20)^2\n",
    "    distance = math.sqrt(dx2 + dy2)\n",
    "    \n",
    "    return distance"
   ]
  },
  {
   "cell_type": "code",
   "execution_count": 4,
   "metadata": {
    "ExecuteTime": {
     "end_time": "2019-02-26T06:03:03.897566Z",
     "start_time": "2019-02-26T06:03:03.881565Z"
    }
   },
   "outputs": [],
   "source": [
    "def getCycleLength(sample_image_path,sample_image_rgb_path):\n",
    "    distance_list = []\n",
    "\n",
    "    for i in range(47,103):\n",
    "        sample_image = cv2.imread(sample_image_path + \"{0:03}\".format(i) +\".png\",0)\n",
    "        sample_image_rgb = cv2.imread(sample_image_rgb_path + \"{0:03}\".format(i) +\".png\") \n",
    "        distance_list.append(findDistance(sample_image,sample_image_rgb))\n",
    "\n",
    "    min_ = distance_list[0]\n",
    "    count = 1\n",
    "    cycle_length = []\n",
    "\n",
    "    for i in range(1,len(distance_list)):\n",
    "        temp = min_ - distance_list[i]\n",
    "        if temp > 0 and temp < 5:\n",
    "            count = i\n",
    "            break\n",
    "\n",
    "    return cycle_length"
   ]
  },
  {
   "cell_type": "code",
   "execution_count": 5,
   "metadata": {
    "ExecuteTime": {
     "end_time": "2019-02-26T06:03:08.479731Z",
     "start_time": "2019-02-26T06:03:08.179502Z"
    }
   },
   "outputs": [
    {
     "name": "stdout",
     "output_type": "stream",
     "text": [
      "[29.427877939124322, 43.289721643826724, 50.35871324805669, 53.600373133029585, 62.64982043070834, 64.32728814430156, 64.5600495662759, 61.09828148156051, 52.80151512977634, 41.593268686170845, 29.154759474226502, 20.8806130178211, 18.24828759089466, 20.223748416156685, 18.439088914585774, 64.1248781675256, 67.26812023536856, 70.71067811865476, 65.73431371817918, 57.87054518492115, 46.61544808322666, 37.12142238654117, 23.430749027719962, 25.179356624028344, 41.19465984809196, 53.150729063673246, 61.07372593840988, 68.11754546370561, 67.47592163134935, 73.97972695272672, 72.27724399837061, 66.40783086353596, 56.08029957123981, 45.617978911828175, 32.2490309931942, 20.09975124224178, 21.095023109728988, 17.11724276862369, 17.11724276862369, 16.278820596099706, 16.15549442140351, 14.422205101855956, 14.866068747318506, 53.85164807134504, 46.238512086787566, 34.0, 23.600847442411894, 11.180339887498949, 30.066592756745816, 35.0, 11.180339887498949, 12.041594578792296, 9.219544457292887, 56.43580423808985, 56.089214649520635, 49.64876634922564]\n"
     ]
    }
   ],
   "source": [
    "sample_image_path = \"C:\\\\Users\\\\MUJ\\\\Desktop\\\\minor\\\\casia b\\\\silhouettes\\\\silhouette\\\\001\\\\nm-01\\\\090\\\\001-nm-01-090-\"\n",
    "sample_image_rgb_path = \"C:\\\\Users\\\\MUJ\\\\Desktop\\\\minor\\\\casia b\\\\silhouettes\\\\silhouette\\\\001\\\\nm-01\\\\090\\\\001-nm-01-090-\"\n",
    "distance_list = [] \n",
    "for i in range(47,103):\n",
    "        sample_image = cv2.imread(sample_image_path + \"{0:03}\".format(i) +\".png\",0)\n",
    "        sample_image_rgb = cv2.imread(sample_image_rgb_path + \"{0:03}\".format(i) +\".png\") \n",
    "        distance_list.append(findDistance(sample_image,sample_image_rgb))\n",
    "print(distance_list)"
   ]
  },
  {
   "cell_type": "code",
   "execution_count": null,
   "metadata": {},
   "outputs": [],
   "source": []
  }
 ],
 "metadata": {
  "kernelspec": {
   "display_name": "Python 3",
   "language": "python",
   "name": "python3"
  },
  "language_info": {
   "codemirror_mode": {
    "name": "ipython",
    "version": 3
   },
   "file_extension": ".py",
   "mimetype": "text/x-python",
   "name": "python",
   "nbconvert_exporter": "python",
   "pygments_lexer": "ipython3",
   "version": "3.5.6"
  },
  "varInspector": {
   "cols": {
    "lenName": 16,
    "lenType": 16,
    "lenVar": 40
   },
   "kernels_config": {
    "python": {
     "delete_cmd_postfix": "",
     "delete_cmd_prefix": "del ",
     "library": "var_list.py",
     "varRefreshCmd": "print(var_dic_list())"
    },
    "r": {
     "delete_cmd_postfix": ") ",
     "delete_cmd_prefix": "rm(",
     "library": "var_list.r",
     "varRefreshCmd": "cat(var_dic_list()) "
    }
   },
   "types_to_exclude": [
    "module",
    "function",
    "builtin_function_or_method",
    "instance",
    "_Feature"
   ],
   "window_display": true
  }
 },
 "nbformat": 4,
 "nbformat_minor": 2
}
