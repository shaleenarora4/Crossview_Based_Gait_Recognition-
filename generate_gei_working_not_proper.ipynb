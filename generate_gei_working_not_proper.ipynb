{
 "cells": [
  {
   "cell_type": "code",
   "execution_count": 1,
   "metadata": {
    "ExecuteTime": {
     "end_time": "2019-03-02T05:51:53.950712Z",
     "start_time": "2019-03-02T05:51:49.423953Z"
    }
   },
   "outputs": [],
   "source": [
    "import cv2\n",
    "import numpy as np\n",
    "import os\n",
    "import dlib\n",
    "import pickle\n",
    "from skimage.measure import compare_ssim as ssim"
   ]
  },
  {
   "cell_type": "code",
   "execution_count": 2,
   "metadata": {
    "ExecuteTime": {
     "end_time": "2019-02-04T04:07:12.668451Z",
     "start_time": "2019-02-04T04:07:12.662468Z"
    }
   },
   "outputs": [],
   "source": [
    "PATH_SIHOUETTES = \"D:\\\\MINOR_PROJECT\\\\casia b\\\\silhouettes\"\n",
    "PATH_VIDEOS = \"D:\\MINOR_PROJECT\\casia b\\\\videos\"\n",
    "\n",
    "#id = [\"{0:03}\".format(i) for i in range(1,11)]\n",
    "\n",
    "id = [\"{0:03}\".format(i) for i in range(1,5)]\n",
    "\n",
    "categories = [\"nm-01\", \"nm-02\", \"nm-03\", \"nm-04\", \"nm-05\", \"nm-06\"]\n",
    "\n",
    "#categories = [\"nm-01\"]\n",
    "\n",
    "# For all angles\n",
    "#angles = [\"{0:03}\".format(i) for i in range(0,181,18)]\n",
    "\n",
    "angles = [\"{0:03}\".format(90)]\n",
    "\n",
    "image = cv2.imread(PATH_SIHOUETTES + \"\\\\\" + id[0] +\"\\\\\" + categories[0] + \"\\\\\" + angles[0] + \"\\\\\" + id[0] +\"-\" \n",
    "                   + categories[0] + \"-\" + angles[0] + \"-\" +\"003\" +\".png\")\n"
   ]
  },
  {
   "cell_type": "code",
   "execution_count": 77,
   "metadata": {
    "ExecuteTime": {
     "end_time": "2019-03-02T06:43:10.020171Z",
     "start_time": "2019-03-02T06:43:10.013213Z"
    }
   },
   "outputs": [
    {
     "name": "stdout",
     "output_type": "stream",
     "text": [
      "[[[0 0 0]\n",
      "  [0 0 0]\n",
      "  [0 0 0]\n",
      "  ..., \n",
      "  [0 0 0]\n",
      "  [0 0 0]\n",
      "  [0 0 0]]\n",
      "\n",
      " [[0 0 0]\n",
      "  [0 0 0]\n",
      "  [0 0 0]\n",
      "  ..., \n",
      "  [0 0 0]\n",
      "  [0 0 0]\n",
      "  [0 0 0]]\n",
      "\n",
      " [[0 0 0]\n",
      "  [0 0 0]\n",
      "  [0 0 0]\n",
      "  ..., \n",
      "  [0 0 0]\n",
      "  [0 0 0]\n",
      "  [0 0 0]]\n",
      "\n",
      " ..., \n",
      " [[0 0 0]\n",
      "  [0 0 0]\n",
      "  [0 0 0]\n",
      "  ..., \n",
      "  [0 0 0]\n",
      "  [0 0 0]\n",
      "  [0 0 0]]\n",
      "\n",
      " [[0 0 0]\n",
      "  [0 0 0]\n",
      "  [0 0 0]\n",
      "  ..., \n",
      "  [0 0 0]\n",
      "  [0 0 0]\n",
      "  [0 0 0]]\n",
      "\n",
      " [[0 0 0]\n",
      "  [0 0 0]\n",
      "  [0 0 0]\n",
      "  ..., \n",
      "  [0 0 0]\n",
      "  [0 0 0]\n",
      "  [0 0 0]]]\n",
      "(240, 320, 3)\n"
     ]
    }
   ],
   "source": [
    "cycle_length = 10\n",
    "sample_image_rgb = cv2.imread(\"D:\\\\MINOR_PROJECT\\\\casia b\\\\silhouettes\\\\001\\\\nm-01\\\\090\\\\001-nm-01-090-047.png\")\n",
    "print(sample_image_rgb)\n",
    "gei_image = np.zeros(sample_image_rgb.shape,dtype=int)\n",
    "print(gei_image.shape)"
   ]
  },
  {
   "cell_type": "code",
   "execution_count": 119,
   "metadata": {
    "ExecuteTime": {
     "end_time": "2019-03-02T10:51:17.134284Z",
     "start_time": "2019-03-02T10:50:07.283735Z"
    }
   },
   "outputs": [],
   "source": [
    "sample_image_path = \"D:\\\\MINOR_PROJECT\\\\casia b\\\\silhouettes\\\\001\\\\nm-01\\\\090\\\\001-nm-01-090-\"\n",
    "sample_image_rgb_path = \"D:\\\\MINOR_PROJECT\\\\casia b\\\\silhouettes\\\\001\\\\nm-01\\\\090\\\\001-nm-01-090-\"\n",
    "count = 1\n",
    "sample_image_for_size = cv2.imread(\"D:\\\\MINOR_PROJECT\\\\casia b\\\\silhouettes\\\\001\\\\nm-01\\\\090\\\\001-nm-01-090-047.png\",0)\n",
    "gei_image = np.zeros((240,320),dtype = int)\n",
    "image_list = []\n",
    "for i in range(47,103):\n",
    "    if i % 12 != 0:\n",
    "        sample_image = cv2.imread(sample_image_path + \"{0:03}\".format(i) +\".png\",0)\n",
    "        image_list.append(sample_image)\n",
    "#         cv2.imshow(\"gei {}\".format(i),gei_image)\n",
    "#         cv2.waitKey(0)\n",
    "#         cv2.destroyAllWindows()\n",
    "    else:\n",
    "        sample_image = cv2.imread(sample_image_path + \"{0:03}\".format(i) +\".png\",0)\n",
    "        image_list.append(sample_image)\n",
    "        result = np.zeros(sample_image.shape,dtype=np.int)\n",
    "        result = np.mean(image_list,axis=0)\n",
    "#         gei_image = gei_image.astype(np.uint8)\n",
    "#         ret,gei_imagee = cv2.threshold(gei_image,0,255,0)\n",
    "        cv2.imshow(\"gei {}\".format(i),result)\n",
    "        cv2.waitKey(0)\n",
    "        cv2.destroyAllWindows()\n",
    "        image_list = []\n",
    "cv2.imshow(\"gei {}\".format(count),gei_image)\n",
    "cv2.waitKey(0)\n",
    "cv2.destroyAllWindows()"
   ]
  }
 ],
 "metadata": {
  "kernelspec": {
   "display_name": "Python 3",
   "language": "python",
   "name": "python3"
  },
  "language_info": {
   "codemirror_mode": {
    "name": "ipython",
    "version": 3
   },
   "file_extension": ".py",
   "mimetype": "text/x-python",
   "name": "python",
   "nbconvert_exporter": "python",
   "pygments_lexer": "ipython3",
   "version": "3.6.6"
  },
  "varInspector": {
   "cols": {
    "lenName": 16,
    "lenType": 16,
    "lenVar": 40
   },
   "kernels_config": {
    "python": {
     "delete_cmd_postfix": "",
     "delete_cmd_prefix": "del ",
     "library": "var_list.py",
     "varRefreshCmd": "print(var_dic_list())"
    },
    "r": {
     "delete_cmd_postfix": ") ",
     "delete_cmd_prefix": "rm(",
     "library": "var_list.r",
     "varRefreshCmd": "cat(var_dic_list()) "
    }
   },
   "oldHeight": 122.85,
   "position": {
    "height": "40px",
    "left": "1264.4px",
    "right": "21.6px",
    "top": "124px",
    "width": "250px"
   },
   "types_to_exclude": [
    "module",
    "function",
    "builtin_function_or_method",
    "instance",
    "_Feature"
   ],
   "varInspector_section_display": "none",
   "window_display": true
  }
 },
 "nbformat": 4,
 "nbformat_minor": 2
}
