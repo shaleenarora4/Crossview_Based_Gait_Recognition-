{
 "cells": [
  {
   "cell_type": "code",
   "execution_count": 6,
   "metadata": {
    "ExecuteTime": {
     "end_time": "2019-03-05T03:46:40.805066Z",
     "start_time": "2019-03-05T03:46:40.510994Z"
    }
   },
   "outputs": [
    {
     "name": "stdout",
     "output_type": "stream",
     "text": [
      "C:\\Users\\MUJ\\Desktop\\Gait-Recognition-post-testing\n"
     ]
    }
   ],
   "source": [
    "import cv2\n",
    "import os\n",
    "import sys\n",
    "import numpy as np\n",
    "import imutils\n",
    "import math\n",
    "print(os.getcwd())"
   ]
  },
  {
   "cell_type": "code",
   "execution_count": 2,
   "metadata": {
    "ExecuteTime": {
     "end_time": "2019-03-05T03:46:41.343674Z",
     "start_time": "2019-03-05T03:46:41.333664Z"
    }
   },
   "outputs": [],
   "source": [
    "def getFeatures(sample_image,sample_image_rgb):\n",
    "    thresh = cv2.threshold(sample_image, 45, 255, cv2.THRESH_BINARY)[1]\n",
    "\n",
    "    #Find the ccontour of the binary image\n",
    "    cnts = cv2.findContours(thresh.copy(), cv2.RETR_EXTERNAL,cv2.CHAIN_APPROX_SIMPLE)\n",
    "    cnts = imutils.grab_contours(cnts)#just graps the countours from above received cnts that also contains other info \n",
    "    c = max(cnts, key=cv2.contourArea)\n",
    "\n",
    "    #The extreme most points\n",
    "    extLeft = tuple(c[c[:, :, 0].argmin()][0])\n",
    "    extRight = tuple(c[c[:, :, 0].argmax()][0])\n",
    "    extTop = tuple(c[c[:, :, 1].argmin()][0])\n",
    "    extBot = tuple(c[c[:, :, 1].argmax()][0])\n",
    "    \n",
    "    \"\"\"\n",
    "        In the below code :\n",
    "            1) We are considering the points only below fist level that is coordinates with y value greater than that\n",
    "                of fist\n",
    "            2) In those values we are picking the rightmost and leftmost point that eventually comes out to\n",
    "                be the foot points\n",
    "        \n",
    "    \"\"\"\n",
    "    maximum_y_r = -999\n",
    "    maximum_x_r = -999\n",
    "    maximum_x_l = extLeft[0]\n",
    "    maximum_y_l = -999 \n",
    "    \n",
    "    for i in cnts[0]:\n",
    "        for k in i:\n",
    "            if k[1] > 150:\n",
    "                if maximum_x_r < k[0]:\n",
    "                    maximum_x_r = k[0]\n",
    "                    maximum_y_r = k[1]\n",
    "                        \n",
    "    maximum_x_l = maximum_x_r\n",
    "    maximum_y_l = -999 \n",
    "    for i in cnts[0]:\n",
    "        for k in i:\n",
    "            if k[1] > maximum_y_r - 10:\n",
    "                if maximum_x_l > k[0]:\n",
    "                    maximum_x_l = k[0]\n",
    "                    maximum_y_l = k[1]\n",
    "                    \n",
    "    if maximum_y_l > maximum_y_r:\n",
    "        b=maximum_y_l\n",
    "    else:\n",
    "        b=maximum_y_r\n",
    "    dx2 = (maximum_x_r-extBot[0])**2          \n",
    "    dy2 = (maximum_y_r-extBot[1])**2          \n",
    "    distance = math.sqrt(dx2 + dy2)\n",
    "    hgt = b-extTop[1]\n",
    "    w=extRight[0]-extLeft[0]\n",
    "    \n",
    "    return distance,hgt,w"
   ]
  },
  {
   "cell_type": "code",
   "execution_count": 3,
   "metadata": {
    "ExecuteTime": {
     "end_time": "2019-03-05T04:00:04.608682Z",
     "start_time": "2019-03-05T04:00:04.600704Z"
    }
   },
   "outputs": [],
   "source": [
    "def getCroppedImage(sample_image,sample_image_rgb,width_list_max,height_list_max):\n",
    "    thresh = cv2.threshold(sample_image, 45, 255, cv2.THRESH_BINARY)[1]\n",
    "    \n",
    "    cnts = cv2.findContours(thresh.copy(), cv2.RETR_EXTERNAL,cv2.CHAIN_APPROX_SIMPLE)\n",
    "    cnts = imutils.grab_contours(cnts)\n",
    "    c = max(cnts, key=cv2.contourArea)\n",
    "\n",
    "    extLeft = tuple(c[c[:, :, 0].argmin()][0])\n",
    "    extRight = tuple(c[c[:, :, 0].argmax()][0])\n",
    "    extTop = tuple(c[c[:, :, 1].argmin()][0])\n",
    "    extBot = tuple(c[c[:, :, 1].argmax()][0])\n",
    "    \n",
    "    x=extLeft[0]\n",
    "    y=extTop[1]\n",
    "    \n",
    "    mid_point = x + width_list_max//2\n",
    "    if (extTop[0] < mid_point):\n",
    "        diff = mid_point - extTop[0]\n",
    "        x = x - diff\n",
    "    elif extTop[0] > mid_point:\n",
    "        diff = extTop[0] - mid_point\n",
    "        x += diff\n",
    "    if x < 0:\n",
    "        x = 0\n",
    "    elif x > 240:\n",
    "        x = 240\n",
    "    cropped = sample_image[y:y+height_list_max,x:x+width_list_max] # [y_min:y_max,x_min:x_max]\n",
    "    return cropped"
   ]
  },
  {
   "cell_type": "code",
   "execution_count": null,
   "metadata": {
    "ExecuteTime": {
     "end_time": "2019-03-05T04:01:39.199053Z",
     "start_time": "2019-03-05T04:01:38.753099Z"
    }
   },
   "outputs": [],
   "source": [
    "sample_image_path = \"C:\\\\Users\\\\MUJ\\\\Desktop\\\\minor\\\\casia b\\\\silhouettes\\\\silhouette\\\\001\\\\nm-01\\\\090\\\\001-nm-01-090-\"\n",
    "sample_image_rgb_path = \"C:\\\\Users\\\\MUJ\\\\Desktop\\\\minor\\\\casia b\\\\silhouettes\\\\silhouette\\\\001\\\\nm-01\\\\090\\\\001-nm-01-090-\"\n",
    "\n",
    "distance_list = []\n",
    "height_list = []\n",
    "width_list=[]\n",
    "\n",
    "\"\"\"\n",
    "    Extract contours and features of the subject like:\n",
    "        1) Height\n",
    "        2) Stride Length\n",
    "\n",
    "\"\"\"\n",
    "for i in range(47,103):\n",
    "    sample_image = cv2.imread(sample_image_path + \"{0:03}\".format(i) +\".png\",0)\n",
    "    sample_image_rgb = cv2.imread(sample_image_rgb_path + \"{0:03}\".format(i) +\".png\") \n",
    "    distance,height,width = getFeatures(sample_image,sample_image_rgb)\n",
    "    distance_list.append(round(distance))\n",
    "    if height>=120:\n",
    "        height_list.append(height)\n",
    "    width_list.append(width)   \n",
    "\n",
    "\"\"\"\n",
    "    Gets the cropped image from given above features\n",
    "\n",
    "\"\"\"\n",
    "\n",
    "width_list_max = max(width_list)\n",
    "height_list_max = max(height_list)\n",
    "image_list = []\n",
    "\n",
    "for i in range(47,103):\n",
    "    sample_image = cv2.imread(sample_image_path + \"{0:03}\".format(i) +\".png\",0)\n",
    "    sample_image_rgb = cv2.imread(sample_image_rgb_path + \"{0:03}\".format(i) +\".png\") \n",
    "    cropped_image = getCroppedImage(sample_image,sample_image_rgb,width_list_max,height_list_max)\n",
    "    print(cropped_image.shape)\n",
    "    image_list.append(cropped_image)\n",
    "    if i % 10 == 0:\n",
    "        gei_image = np.zeros(cropped_image.shape,dtype = np.int)\n",
    "        gei_image = np.mean(image_list,axis=0)\n",
    "        gei_image = gei_image.astype(np.int)\n",
    "        cv2.imwrite(\"gei{}.jpg\".format(i),gei_image)\n",
    "        image_list = []"
   ]
  },
  {
   "cell_type": "code",
   "execution_count": null,
   "metadata": {},
   "outputs": [],
   "source": []
  },
  {
   "cell_type": "code",
   "execution_count": null,
   "metadata": {},
   "outputs": [],
   "source": []
  }
 ],
 "metadata": {
  "kernelspec": {
   "display_name": "Python 3",
   "language": "python",
   "name": "python3"
  },
  "language_info": {
   "codemirror_mode": {
    "name": "ipython",
    "version": 3
   },
   "file_extension": ".py",
   "mimetype": "text/x-python",
   "name": "python",
   "nbconvert_exporter": "python",
   "pygments_lexer": "ipython3",
   "version": "3.5.6"
  },
  "varInspector": {
   "cols": {
    "lenName": 16,
    "lenType": 16,
    "lenVar": 40
   },
   "kernels_config": {
    "python": {
     "delete_cmd_postfix": "",
     "delete_cmd_prefix": "del ",
     "library": "var_list.py",
     "varRefreshCmd": "print(var_dic_list())"
    },
    "r": {
     "delete_cmd_postfix": ") ",
     "delete_cmd_prefix": "rm(",
     "library": "var_list.r",
     "varRefreshCmd": "cat(var_dic_list()) "
    }
   },
   "types_to_exclude": [
    "module",
    "function",
    "builtin_function_or_method",
    "instance",
    "_Feature"
   ],
   "window_display": true
  }
 },
 "nbformat": 4,
 "nbformat_minor": 2
}
