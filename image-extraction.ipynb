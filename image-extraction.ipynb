{
 "cells": [
  {
   "cell_type": "code",
   "execution_count": 2,
   "metadata": {
    "ExecuteTime": {
     "end_time": "2019-01-23T06:25:37.311559Z",
     "start_time": "2019-01-23T06:25:36.240338Z"
    }
   },
   "outputs": [],
   "source": [
    "import os\n",
    "import numpy as np\n",
    "import pickle\n",
    "import itertools\n",
    "import cv2\n",
    "import random"
   ]
  },
  {
   "cell_type": "code",
   "execution_count": 3,
   "metadata": {
    "ExecuteTime": {
     "end_time": "2019-01-23T06:25:38.504479Z",
     "start_time": "2019-01-23T06:25:38.117478Z"
    }
   },
   "outputs": [],
   "source": [
    "PATH_SIHOUETTES = \"D:\\\\MINOR_PROJECT\\\\casia b\\\\silhouettes\"\n",
    "PATH_VIDEOS = \"D:\\MINOR_PROJECT\\casia b\\\\videos\"\n",
    "\n",
    "#id = [\"{0:03}\".format(i) for i in range(1,11)]\n",
    "\n",
    "id = [\"{0:03}\".format(i) for i in range(1,5)]\n",
    "\n",
    "categories = [\"nm-01\", \"nm-02\", \"nm-03\", \"nm-04\", \"nm-05\", \"nm-06\"]\n",
    "\n",
    "#categories = [\"nm-01\"]\n",
    "\n",
    "# For all angles\n",
    "#angles = [\"{0:03}\".format(i) for i in range(0,181,18)]\n",
    "\n",
    "angles = [\"{0:03}\".format(90)]\n",
    "\n",
    "image = cv2.imread(PATH_SIHOUETTES + \"\\\\\" + id[0] +\"\\\\\" + categories[0] + \"\\\\\" + angles[0] + \"\\\\\" + id[0] +\"-\" \n",
    "                   + categories[0] + \"-\" + angles[0] + \"-\" +\"003\" +\".png\")\n"
   ]
  },
  {
   "cell_type": "code",
   "execution_count": 4,
   "metadata": {
    "ExecuteTime": {
     "end_time": "2019-01-23T06:25:54.360893Z",
     "start_time": "2019-01-23T06:25:39.698092Z"
    }
   },
   "outputs": [],
   "source": [
    "combined = []\n",
    "\n",
    "X = []\n",
    "Y = []\n",
    "\n",
    "for i in range(len(id)):\n",
    "    for j in range(len(categories)):\n",
    "        for k in range(len(angles)):\n",
    "            for l in os.listdir(os.path.join(PATH_SIHOUETTES,id[i],categories[j],angles[k])):\n",
    "                image = cv2.imread(os.path.join(PATH_SIHOUETTES,id[i],categories[j],angles[k],l))\n",
    "                combined.append([image,id[i]])\n",
    "\n",
    "random.shuffle(combined)\n",
    "\n",
    "for i in combined:\n",
    "    X.append(i[0])\n",
    "    Y.append(i[1])\n",
    "\n",
    "with open('X.pkl','wb') as f:\n",
    "    pickle.dump(X,f)\n",
    "    f.close()\n",
    "    \n",
    "with open('Y.pkl','wb') as f:\n",
    "    pickle.dump(Y,f)\n",
    "    f.close()\n"
   ]
  }
 ],
 "metadata": {
  "kernelspec": {
   "display_name": "Python 3",
   "language": "python",
   "name": "python3"
  },
  "language_info": {
   "codemirror_mode": {
    "name": "ipython",
    "version": 3
   },
   "file_extension": ".py",
   "mimetype": "text/x-python",
   "name": "python",
   "nbconvert_exporter": "python",
   "pygments_lexer": "ipython3",
   "version": "3.5.6"
  },
  "varInspector": {
   "cols": {
    "lenName": 16,
    "lenType": 16,
    "lenVar": 40
   },
   "kernels_config": {
    "python": {
     "delete_cmd_postfix": "",
     "delete_cmd_prefix": "del ",
     "library": "var_list.py",
     "varRefreshCmd": "print(var_dic_list())"
    },
    "r": {
     "delete_cmd_postfix": ") ",
     "delete_cmd_prefix": "rm(",
     "library": "var_list.r",
     "varRefreshCmd": "cat(var_dic_list()) "
    }
   },
   "oldHeight": 122.4,
   "position": {
    "height": "40px",
    "left": "1179px",
    "right": "20px",
    "top": "638px",
    "width": "350px"
   },
   "types_to_exclude": [
    "module",
    "function",
    "builtin_function_or_method",
    "instance",
    "_Feature"
   ],
   "varInspector_section_display": "none",
   "window_display": true
  }
 },
 "nbformat": 4,
 "nbformat_minor": 2
}
